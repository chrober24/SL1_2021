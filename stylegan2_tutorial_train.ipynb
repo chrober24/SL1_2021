{
  "nbformat": 4,
  "nbformat_minor": 0,
  "metadata": {
    "accelerator": "GPU",
    "colab": {
      "name": "stylegan2_tutorial_train.ipynb",
      "provenance": [],
      "machine_shape": "hm",
      "include_colab_link": true
    },
    "kernelspec": {
      "display_name": "Python 3",
      "name": "python3"
    },
    "language_info": {
      "name": "python"
    }
  },
  "cells": [
    {
      "cell_type": "markdown",
      "metadata": {
        "id": "view-in-github",
        "colab_type": "text"
      },
      "source": [
        "<a href=\"https://colab.research.google.com/github/chrober24/SL1_2021/blob/main/stylegan2_tutorial_train.ipynb\" target=\"_parent\"><img src=\"https://colab.research.google.com/assets/colab-badge.svg\" alt=\"Open In Colab\"/></a>"
      ]
    },
    {
      "cell_type": "markdown",
      "metadata": {
        "id": "aiSY0eNe_V0t"
      },
      "source": [
        "## stylegan2: Training\n",
        "\n",
        "this notebook contains scripts for training a stylegan2 model as well as various scripts for generating images from a trained network and projecting into the network\n",
        "\n",
        "Training requires connecting colab to google drive as the training process generates a large amount of data that cannot be hosted locally on colab."
      ]
    },
    {
      "cell_type": "markdown",
      "metadata": {
        "id": "L2FQJl-S8ZGg"
      },
      "source": [
        "# setup"
      ]
    },
    {
      "cell_type": "code",
      "metadata": {
        "colab": {
          "base_uri": "https://localhost:8080/"
        },
        "id": "9QtGFQ_PwLFZ",
        "outputId": "56516bf0-3756-4bb7-f64e-155cc1a24265"
      },
      "source": [
        "#always use tensorflow1\n",
        "\n",
        "%tensorflow_version 1.x\n"
      ],
      "execution_count": null,
      "outputs": [
        {
          "output_type": "stream",
          "text": [
            "TensorFlow 1.x selected.\n"
          ],
          "name": "stdout"
        }
      ]
    },
    {
      "cell_type": "code",
      "metadata": {
        "id": "Gdl_HcPhkTsv"
      },
      "source": [
        "from google.colab import drive\n",
        "drive.mount('/content/drive')"
      ],
      "execution_count": null,
      "outputs": []
    },
    {
      "cell_type": "markdown",
      "metadata": {
        "id": "6I1rJ72VWSY6"
      },
      "source": [
        "## Initial Setup\n",
        "\n",
        "Run this cell if you’ve never run this repo in your Drive account. SKIP it if you have.\n",
        "\n",
        "This cell will download the Stylegan2 repository to your Drive and create the necessary folder structure to train a custom stylegan2 model"
      ]
    },
    {
      "cell_type": "code",
      "metadata": {
        "colab": {
          "base_uri": "https://localhost:8080/"
        },
        "id": "7lSz-7VCkmaK",
        "outputId": "beae095b-99a9-4bd4-e9bc-db0a1a9591d9"
      },
      "source": [
        "#SKIP this if you already have a stylegan2 folder in your google drive\n",
        "%cd /content/drive/MyDrive/\n",
        "!mkdir stylegan2-aug-colab\n",
        "%cd stylegan2-aug-colab/\n",
        "!git clone -b augs-attn https://github.com/dvschultz/stylegan2\n",
        "%cd stylegan2\n",
        "!mkdir pkl\n",
        "%cd pkl\n",
        "!gdown --id 1JLqXE5bGZnlu2BkbLPD5_ZxoO3Nz-AvF #inception: https://drive.google.com/open?id=1JLqXE5bGZnlu2BkbLPD5_ZxoO3Nz-AvF\n",
        "%cd ../\n",
        "!mkdir results\n",
        "!mkdir results/00001-pretrained\n",
        "%cd results/00001-pretrained\n",
        "!gdown --id 1UlDmJVLLnBD9SnLSMXeiZRO6g-OMQCA_\n",
        "%cd ../../\n",
        "%mkdir datasets"
      ],
      "execution_count": null,
      "outputs": [
        {
          "output_type": "stream",
          "text": [
            "/content/drive/MyDrive\n",
            "/content/drive/MyDrive/stylegan2-aug-colab\n",
            "Cloning into 'stylegan2'...\n",
            "remote: Enumerating objects: 552, done.\u001b[K\n",
            "remote: Total 552 (delta 0), reused 0 (delta 0), pack-reused 552\u001b[K\n",
            "Receiving objects: 100% (552/552), 22.47 MiB | 20.60 MiB/s, done.\n",
            "Resolving deltas: 100% (285/285), done.\n",
            "/content/drive/MyDrive/stylegan2-aug-colab/stylegan2\n",
            "/content/drive/MyDrive/stylegan2-aug-colab/stylegan2/pkl\n",
            "Downloading...\n",
            "From: https://drive.google.com/uc?id=1JLqXE5bGZnlu2BkbLPD5_ZxoO3Nz-AvF\n",
            "To: /content/drive/My Drive/stylegan2-aug-colab/stylegan2/pkl/inception_v3_features.pkl\n",
            "87.3MB [00:00, 95.3MB/s]\n",
            "/content/drive/My Drive/stylegan2-aug-colab/stylegan2\n",
            "/content/drive/My Drive/stylegan2-aug-colab/stylegan2/results/00001-pretrained\n",
            "Downloading...\n",
            "From: https://drive.google.com/uc?id=1UlDmJVLLnBD9SnLSMXeiZRO6g-OMQCA_\n",
            "To: /content/drive/My Drive/stylegan2-aug-colab/stylegan2/results/00001-pretrained/stylegan2-ffhq-config-f.pkl\n",
            "382MB [00:03, 99.4MB/s]\n",
            "/content/drive/My Drive/stylegan2-aug-colab/stylegan2\n"
          ],
          "name": "stdout"
        }
      ]
    },
    {
      "cell_type": "markdown",
      "metadata": {
        "id": "BsQL8nw9WX6C"
      },
      "source": [
        "## Return Setup\n",
        "Run this cell if you’re picking up from a previous training."
      ]
    },
    {
      "cell_type": "code",
      "metadata": {
        "colab": {
          "base_uri": "https://localhost:8080/"
        },
        "id": "w9tLYIpHk8WU",
        "outputId": "d0fc7382-6087-45f2-8fea-a0af4182459b"
      },
      "source": [
        "%cd /content/drive/MyDrive/stylegan2-aug-colab/stylegan2\n",
        "#!git pull"
      ],
      "execution_count": null,
      "outputs": [
        {
          "output_type": "stream",
          "text": [
            "/content/drive/MyDrive/stylegan2-aug-colab/stylegan2\n"
          ],
          "name": "stdout"
        }
      ]
    },
    {
      "cell_type": "markdown",
      "metadata": {
        "id": "fWf6qqV_-UQP"
      },
      "source": [
        "# dataset prep:\n",
        "creates tfrecord (only run at beginning of training)\n"
      ]
    },
    {
      "cell_type": "code",
      "metadata": {
        "colab": {
          "base_uri": "https://localhost:8080/"
        },
        "id": "nHtOsDri-YNm",
        "outputId": "5834d567-05a2-465a-ee50-c7cc3883533b"
      },
      "source": [
        "!python dataset_tool.py create_from_images_raw /content/drive/MyDrive/stylegan2-aug-colab/stylegan2/datasets/human_insect_limbs /content/drive/MyDrive/dataset_prep/dataset-tools/output/human_insect_limbs_png/sq-512/"
      ],
      "execution_count": null,
      "outputs": [
        {
          "output_type": "stream",
          "text": [
            "Loading images from \"/content/drive/MyDrive/dataset_prep/dataset-tools/output/human_insect_limbs_png/sq-512/\"\n",
            "detected 922 images ...\n",
            "Shuffle the images...\n",
            "Creating dataset \"/content/drive/MyDrive/stylegan2-aug-colab/stylegan2/datasets/human_insect_limbs\"\n",
            "Adding the images to tfrecords ...\n",
            "added images 0\n",
            "Added 208 images.\n",
            "Traceback (most recent call last):\n",
            "  File \"dataset_tool.py\", line 943, in <module>\n",
            "    execute_cmdline(sys.argv)\n",
            "  File \"dataset_tool.py\", line 937, in execute_cmdline\n",
            "    func(**vars(args))\n",
            "  File \"dataset_tool.py\", line 712, in create_from_images_raw\n",
            "    encoded_jpg = fid.read()\n",
            "  File \"/tensorflow-1.15.2/python3.7/tensorflow_core/python/lib/io/file_io.py\", line 128, in read\n",
            "    pywrap_tensorflow.ReadFromStream(self._read_buf, length))\n",
            "KeyboardInterrupt\n"
          ],
          "name": "stdout"
        }
      ]
    },
    {
      "cell_type": "markdown",
      "metadata": {
        "id": "0i_uZAoLcrpt"
      },
      "source": [
        "# Pre-train model download\n",
        "run only once!"
      ]
    },
    {
      "cell_type": "code",
      "metadata": {
        "id": "WlKX8A-gcz5N"
      },
      "source": [
        "!gdown --id 1Muz1D56wm_x2ysLyVqTuaMIazsQgmIOg -O /content/drive/MyDrive/stylegan2-aug-colab/stylegan2/pkl/stylegan2-car-config-f.pkl"
      ],
      "execution_count": null,
      "outputs": []
    },
    {
      "cell_type": "markdown",
      "metadata": {
        "id": "2qbCFYx3Wghn"
      },
      "source": [
        "# Training\n",
        "\n",
        "In the next cell set your pkl and `resume_kimg` counter. If this is your first time the settings below should work for you.\n",
        "\n",
        "This cell should be used for transfer learning as well as resuming a current train. "
      ]
    },
    {
      "cell_type": "code",
      "metadata": {
        "id": "83hg9Jw9zObb"
      },
      "source": [
        "pkl=\"/content/drive/MyDrive/stylegan2-aug-colab/stylegan2/results/00027-stylegan2-human_insect_limbs-1gpu-config-f/network-snapshot-010900.pkl\"\n",
        "resume_kimg = 10900"
      ],
      "execution_count": null,
      "outputs": []
    },
    {
      "cell_type": "markdown",
      "metadata": {
        "id": "EQDK-iofWls5"
      },
      "source": [
        "the `AUG_PROB` environment setting tells the training loop how often to modify the real and fake images with augmentations. The default is `0.1` If you have a small training set you may want to go higher than that but note that the Karras paper does say if you set this value too high you may find it bleeds into the outputs.\n",
        "\n",
        "Replace --dataset with your dataset name"
      ]
    },
    {
      "cell_type": "code",
      "metadata": {
        "colab": {
          "base_uri": "https://localhost:8080/"
        },
        "id": "LqZAM9ormiYf",
        "outputId": "74d3a8d8-e40e-4a59-f368-1b55bdc4bffd"
      },
      "source": [
        "!AUG_PROB=0.2 python run_training.py --num-gpus=1 --mirror-augment=True --data-dir=./datasets --dataset=human_insect_limbs --config=config-f --resume-pkl=$pkl --resume-kimg=$resume_kimg --augmentations=True --metrics=None"
      ],
      "execution_count": null,
      "outputs": [
        {
          "output_type": "stream",
          "text": [
            "Local submit - run_dir: results/00028-stylegan2-human_insect_limbs-1gpu-config-f\n",
            "dnnlib: Running training.training_loop.training_loop() on localhost...\n",
            "Streaming data using training.dataset.TFRecordDataset...\n",
            "Dataset shape = [3, 512, 512]\n",
            "Dynamic range = [0, 255]\n",
            "Label size    = 0\n",
            "Loading networks from \"/content/drive/MyDrive/stylegan2-aug-colab/stylegan2/results/00027-stylegan2-human_insect_limbs-1gpu-config-f/network-snapshot-010900.pkl\"...\n",
            "Setting up TensorFlow plugin \"fused_bias_act.cu\": Preprocessing... Loading... Done.\n",
            "Setting up TensorFlow plugin \"upfirdn_2d.cu\": Preprocessing... Loading... Done.\n",
            "\n",
            "G                             Params    OutputShape         WeightShape     \n",
            "---                           ---       ---                 ---             \n",
            "latents_in                    -         (?, 512)            -               \n",
            "labels_in                     -         (?, 0)              -               \n",
            "lod                           -         ()                  -               \n",
            "dlatent_avg                   -         (512,)              -               \n",
            "G_mapping/latents_in          -         (?, 512)            -               \n",
            "G_mapping/labels_in           -         (?, 0)              -               \n",
            "G_mapping/Normalize           -         (?, 512)            -               \n",
            "G_mapping/Dense0              262656    (?, 512)            (512, 512)      \n",
            "G_mapping/Dense1              262656    (?, 512)            (512, 512)      \n",
            "G_mapping/Dense2              262656    (?, 512)            (512, 512)      \n",
            "G_mapping/Dense3              262656    (?, 512)            (512, 512)      \n",
            "G_mapping/Dense4              262656    (?, 512)            (512, 512)      \n",
            "G_mapping/Dense5              262656    (?, 512)            (512, 512)      \n",
            "G_mapping/Dense6              262656    (?, 512)            (512, 512)      \n",
            "G_mapping/Dense7              262656    (?, 512)            (512, 512)      \n",
            "G_mapping/Broadcast           -         (?, 16, 512)        -               \n",
            "G_mapping/dlatents_out        -         (?, 16, 512)        -               \n",
            "Truncation/Lerp               -         (?, 16, 512)        -               \n",
            "G_synthesis/dlatents_in       -         (?, 16, 512)        -               \n",
            "G_synthesis/4x4/Const         8192      (?, 512, 4, 4)      (1, 512, 4, 4)  \n",
            "G_synthesis/4x4/Conv          2622465   (?, 512, 4, 4)      (3, 3, 512, 512)\n",
            "G_synthesis/4x4/ToRGB         264195    (?, 3, 4, 4)        (1, 1, 512, 3)  \n",
            "G_synthesis/8x8/Conv0_up      2622465   (?, 512, 8, 8)      (3, 3, 512, 512)\n",
            "G_synthesis/8x8/Conv1         2622465   (?, 512, 8, 8)      (3, 3, 512, 512)\n",
            "G_synthesis/8x8/Upsample      -         (?, 3, 8, 8)        -               \n",
            "G_synthesis/8x8/ToRGB         264195    (?, 3, 8, 8)        (1, 1, 512, 3)  \n",
            "G_synthesis/16x16/Conv0_up    2622465   (?, 512, 16, 16)    (3, 3, 512, 512)\n",
            "G_synthesis/16x16/Conv1       2622465   (?, 512, 16, 16)    (3, 3, 512, 512)\n",
            "G_synthesis/16x16/Upsample    -         (?, 3, 16, 16)      -               \n",
            "G_synthesis/16x16/ToRGB       264195    (?, 3, 16, 16)      (1, 1, 512, 3)  \n",
            "G_synthesis/32x32/Conv0_up    2622465   (?, 512, 32, 32)    (3, 3, 512, 512)\n",
            "G_synthesis/32x32/Conv1       2622465   (?, 512, 32, 32)    (3, 3, 512, 512)\n",
            "G_synthesis/32x32/Upsample    -         (?, 3, 32, 32)      -               \n",
            "G_synthesis/32x32/ToRGB       264195    (?, 3, 32, 32)      (1, 1, 512, 3)  \n",
            "G_synthesis/64x64/Conv0_up    2622465   (?, 512, 64, 64)    (3, 3, 512, 512)\n",
            "G_synthesis/64x64/Conv1       2622465   (?, 512, 64, 64)    (3, 3, 512, 512)\n",
            "G_synthesis/64x64/Upsample    -         (?, 3, 64, 64)      -               \n",
            "G_synthesis/64x64/ToRGB       264195    (?, 3, 64, 64)      (1, 1, 512, 3)  \n",
            "G_synthesis/128x128/Conv0_up  1442561   (?, 256, 128, 128)  (3, 3, 512, 256)\n",
            "G_synthesis/128x128/Conv1     721409    (?, 256, 128, 128)  (3, 3, 256, 256)\n",
            "G_synthesis/128x128/Upsample  -         (?, 3, 128, 128)    -               \n",
            "G_synthesis/128x128/ToRGB     132099    (?, 3, 128, 128)    (1, 1, 256, 3)  \n",
            "G_synthesis/256x256/Conv0_up  426369    (?, 128, 256, 256)  (3, 3, 256, 128)\n",
            "G_synthesis/256x256/Conv1     213249    (?, 128, 256, 256)  (3, 3, 128, 128)\n",
            "G_synthesis/256x256/Upsample  -         (?, 3, 256, 256)    -               \n",
            "G_synthesis/256x256/ToRGB     66051     (?, 3, 256, 256)    (1, 1, 128, 3)  \n",
            "G_synthesis/512x512/Conv0_up  139457    (?, 64, 512, 512)   (3, 3, 128, 64) \n",
            "G_synthesis/512x512/Conv1     69761     (?, 64, 512, 512)   (3, 3, 64, 64)  \n",
            "G_synthesis/512x512/Upsample  -         (?, 3, 512, 512)    -               \n",
            "G_synthesis/512x512/ToRGB     33027     (?, 3, 512, 512)    (1, 1, 64, 3)   \n",
            "G_synthesis/images_out        -         (?, 3, 512, 512)    -               \n",
            "G_synthesis/noise0            -         (1, 1, 4, 4)        -               \n",
            "G_synthesis/noise1            -         (1, 1, 8, 8)        -               \n",
            "G_synthesis/noise2            -         (1, 1, 8, 8)        -               \n",
            "G_synthesis/noise3            -         (1, 1, 16, 16)      -               \n",
            "G_synthesis/noise4            -         (1, 1, 16, 16)      -               \n",
            "G_synthesis/noise5            -         (1, 1, 32, 32)      -               \n",
            "G_synthesis/noise6            -         (1, 1, 32, 32)      -               \n",
            "G_synthesis/noise7            -         (1, 1, 64, 64)      -               \n",
            "G_synthesis/noise8            -         (1, 1, 64, 64)      -               \n",
            "G_synthesis/noise9            -         (1, 1, 128, 128)    -               \n",
            "G_synthesis/noise10           -         (1, 1, 128, 128)    -               \n",
            "G_synthesis/noise11           -         (1, 1, 256, 256)    -               \n",
            "G_synthesis/noise12           -         (1, 1, 256, 256)    -               \n",
            "G_synthesis/noise13           -         (1, 1, 512, 512)    -               \n",
            "G_synthesis/noise14           -         (1, 1, 512, 512)    -               \n",
            "images_out                    -         (?, 3, 512, 512)    -               \n",
            "---                           ---       ---                 ---             \n",
            "Total                         30276583                                      \n",
            "\n",
            "\n",
            "D                    Params    OutputShape         WeightShape     \n",
            "---                  ---       ---                 ---             \n",
            "images_in            -         (?, 3, 512, 512)    -               \n",
            "labels_in            -         (?, 0)              -               \n",
            "512x512/FromRGB      256       (?, 64, 512, 512)   (1, 1, 3, 64)   \n",
            "512x512/Conv0        36928     (?, 64, 512, 512)   (3, 3, 64, 64)  \n",
            "512x512/Conv1_down   73856     (?, 128, 256, 256)  (3, 3, 64, 128) \n",
            "512x512/Skip         8192      (?, 128, 256, 256)  (1, 1, 64, 128) \n",
            "256x256/Conv0        147584    (?, 128, 256, 256)  (3, 3, 128, 128)\n",
            "256x256/Conv1_down   295168    (?, 256, 128, 128)  (3, 3, 128, 256)\n",
            "256x256/Skip         32768     (?, 256, 128, 128)  (1, 1, 128, 256)\n",
            "128x128/Conv0        590080    (?, 256, 128, 128)  (3, 3, 256, 256)\n",
            "128x128/Conv1_down   1180160   (?, 512, 64, 64)    (3, 3, 256, 512)\n",
            "128x128/Skip         131072    (?, 512, 64, 64)    (1, 1, 256, 512)\n",
            "64x64/Conv0          2359808   (?, 512, 64, 64)    (3, 3, 512, 512)\n",
            "64x64/Conv1_down     2359808   (?, 512, 32, 32)    (3, 3, 512, 512)\n",
            "64x64/Skip           262144    (?, 512, 32, 32)    (1, 1, 512, 512)\n",
            "32x32/Conv0          2359808   (?, 512, 32, 32)    (3, 3, 512, 512)\n",
            "32x32/Conv1_down     2359808   (?, 512, 16, 16)    (3, 3, 512, 512)\n",
            "32x32/Skip           262144    (?, 512, 16, 16)    (1, 1, 512, 512)\n",
            "16x16/Conv0          2359808   (?, 512, 16, 16)    (3, 3, 512, 512)\n",
            "16x16/Conv1_down     2359808   (?, 512, 8, 8)      (3, 3, 512, 512)\n",
            "16x16/Skip           262144    (?, 512, 8, 8)      (1, 1, 512, 512)\n",
            "8x8/Conv0            2359808   (?, 512, 8, 8)      (3, 3, 512, 512)\n",
            "8x8/Conv1_down       2359808   (?, 512, 4, 4)      (3, 3, 512, 512)\n",
            "8x8/Skip             262144    (?, 512, 4, 4)      (1, 1, 512, 512)\n",
            "4x4/MinibatchStddev  -         (?, 513, 4, 4)      -               \n",
            "4x4/Conv             2364416   (?, 512, 4, 4)      (3, 3, 513, 512)\n",
            "4x4/Dense0           4194816   (?, 512)            (8192, 512)     \n",
            "Output               513       (?, 1)              (512, 1)        \n",
            "scores_out           -         (?, 1)              -               \n",
            "---                  ---       ---                 ---             \n",
            "Total                28982849                                      \n",
            "\n",
            "Building TensorFlow graph...\n",
            "In shape:\n",
            "(8, 3, 512, 512)\n",
            "Augmenting reals and fake in gpu mode\n",
            "Augment probability 0.2\n",
            "Transposing channels\n",
            "POLICY :  random\n",
            "In shape:\n",
            "(8, 3, 512, 512)\n",
            "Augmenting reals and fake in gpu mode\n",
            "Augment probability 0.2\n",
            "Transposing channels\n",
            "POLICY :  random\n",
            "In shape:\n",
            "(8, 3, 512, 512)\n",
            "Augmenting reals and fake in gpu mode\n",
            "Augment probability 0.2\n",
            "Transposing channels\n",
            "POLICY :  random\n",
            "Initializing logs...\n",
            "Training for 25000 kimg...\n",
            "\n",
            "tick 0     kimg 10900.1  lod 0.00  minibatch 32   time 56s          sec/tick 56.4    sec/kimg 440.44  maintenance 0.0    gpumem 12.9\n",
            "tick 1     kimg 10906.1  lod 0.00  minibatch 32   time 28m 19s      sec/tick 1625.5  sec/kimg 270.19  maintenance 17.2   gpumem 12.9\n",
            "tick 2     kimg 10912.2  lod 0.00  minibatch 32   time 55m 34s      sec/tick 1628.8  sec/kimg 270.74  maintenance 5.9    gpumem 12.9\n",
            "tick 3     kimg 10918.2  lod 0.00  minibatch 32   time 1h 22m 49s   sec/tick 1629.5  sec/kimg 270.85  maintenance 5.9    gpumem 12.9\n",
            "tick 4     kimg 10924.2  lod 0.00  minibatch 32   time 1h 50m 04s   sec/tick 1629.5  sec/kimg 270.86  maintenance 5.8    gpumem 12.9\n",
            "tick 5     kimg 10930.2  lod 0.00  minibatch 32   time 2h 17m 16s   sec/tick 1626.3  sec/kimg 270.33  maintenance 5.8    gpumem 12.9\n",
            "tick 6     kimg 10936.2  lod 0.00  minibatch 32   time 2h 44m 32s   sec/tick 1629.5  sec/kimg 270.87  maintenance 5.8    gpumem 12.9\n",
            "tick 7     kimg 10942.2  lod 0.00  minibatch 32   time 3h 11m 48s   sec/tick 1629.8  sec/kimg 270.91  maintenance 5.9    gpumem 12.9\n",
            "tick 8     kimg 10948.3  lod 0.00  minibatch 32   time 3h 39m 03s   sec/tick 1629.8  sec/kimg 270.90  maintenance 5.9    gpumem 12.9\n",
            "tick 9     kimg 10954.3  lod 0.00  minibatch 32   time 4h 06m 15s   sec/tick 1626.2  sec/kimg 270.31  maintenance 5.9    gpumem 12.9\n",
            "tick 10    kimg 10960.3  lod 0.00  minibatch 32   time 4h 33m 31s   sec/tick 1629.8  sec/kimg 270.92  maintenance 5.9    gpumem 12.9\n",
            "tick 11    kimg 10966.3  lod 0.00  minibatch 32   time 5h 00m 46s   sec/tick 1629.2  sec/kimg 270.82  maintenance 6.1    gpumem 12.9\n",
            "tick 12    kimg 10972.3  lod 0.00  minibatch 32   time 5h 28m 01s   sec/tick 1628.5  sec/kimg 270.70  maintenance 6.2    gpumem 12.9\n",
            "tick 13    kimg 10978.3  lod 0.00  minibatch 32   time 5h 55m 12s   sec/tick 1625.0  sec/kimg 270.11  maintenance 6.0    gpumem 12.9\n",
            "tick 14    kimg 10984.4  lod 0.00  minibatch 32   time 6h 22m 26s   sec/tick 1628.1  sec/kimg 270.63  maintenance 5.9    gpumem 12.9\n",
            "tick 15    kimg 10990.4  lod 0.00  minibatch 32   time 6h 49m 40s   sec/tick 1628.1  sec/kimg 270.63  maintenance 6.2    gpumem 12.9\n",
            "tick 16    kimg 10996.4  lod 0.00  minibatch 32   time 7h 16m 54s   sec/tick 1627.9  sec/kimg 270.60  maintenance 6.0    gpumem 12.9\n",
            "tick 17    kimg 11002.4  lod 0.00  minibatch 32   time 7h 44m 07s   sec/tick 1627.0  sec/kimg 270.44  maintenance 6.0    gpumem 12.9\n",
            "tick 18    kimg 11008.4  lod 0.00  minibatch 32   time 8h 11m 24s   sec/tick 1630.5  sec/kimg 271.03  maintenance 6.0    gpumem 12.9\n",
            "tick 19    kimg 11014.4  lod 0.00  minibatch 32   time 8h 38m 40s   sec/tick 1630.7  sec/kimg 271.07  maintenance 6.0    gpumem 12.9\n",
            "tick 20    kimg 11020.4  lod 0.00  minibatch 32   time 9h 05m 57s   sec/tick 1630.8  sec/kimg 271.08  maintenance 6.0    gpumem 12.9\n",
            "tick 21    kimg 11026.5  lod 0.00  minibatch 32   time 9h 33m 10s   sec/tick 1627.4  sec/kimg 270.51  maintenance 5.9    gpumem 12.9\n",
            "tick 22    kimg 11032.5  lod 0.00  minibatch 32   time 10h 00m 27s  sec/tick 1630.6  sec/kimg 271.04  maintenance 5.9    gpumem 12.9\n",
            "tick 23    kimg 11038.5  lod 0.00  minibatch 32   time 10h 27m 44s  sec/tick 1631.1  sec/kimg 271.12  maintenance 5.9    gpumem 12.9\n"
          ],
          "name": "stdout"
        }
      ]
    }
  ]
}