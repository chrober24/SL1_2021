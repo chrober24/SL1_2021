{
  "nbformat": 4,
  "nbformat_minor": 0,
  "metadata": {
    "colab": {
      "name": "web_scraping.ipynb",
      "provenance": [],
      "authorship_tag": "ABX9TyMWV7jjGKSK9UFpqVLWIb3s",
      "include_colab_link": true
    },
    "kernelspec": {
      "name": "python3",
      "display_name": "Python 3"
    },
    "language_info": {
      "name": "python"
    }
  },
  "cells": [
    {
      "cell_type": "markdown",
      "metadata": {
        "id": "view-in-github",
        "colab_type": "text"
      },
      "source": [
        "<a href=\"https://colab.research.google.com/github/chrober24/SL_2021-2022/blob/main/web_scraping.ipynb\" target=\"_parent\"><img src=\"https://colab.research.google.com/assets/colab-badge.svg\" alt=\"Open In Colab\"/></a>"
      ]
    },
    {
      "cell_type": "markdown",
      "source": [
        "###Scrape Flickr for Images"
      ],
      "metadata": {
        "id": "40sY08j1jOVI"
      }
    },
    {
      "cell_type": "markdown",
      "source": [
        "you will need to create a file called **credentials.json** with your unique Key and Secret from the Flickr api [get api key](https://https://www.flickr.com/services/api/misc.api_keys.html)"
      ],
      "metadata": {
        "id": "3jRteoCljVtL"
      }
    },
    {
      "cell_type": "code",
      "metadata": {
        "id": "FwMfltcTxQk8"
      },
      "source": [
        "#clone repository, change directory, and download credentials.json from Drive\n",
        "!git clone https://github.com/antiboredom/flickr-scrape\n",
        "%cd flickr-scrape/\n",
        "!gdown --id 10s1VpG3rIC04dNyVvR_1LNeALiTGtSVF"
      ],
      "execution_count": null,
      "outputs": []
    },
    {
      "cell_type": "code",
      "metadata": {
        "id": "4ONEYFGhx3a1"
      },
      "source": [
        "#scrape flickr for images\n",
        "#README.md for options\n",
        "!python scraper.py --search \"ladnscape\" --start-page 1 --max-pages 2"
      ],
      "execution_count": null,
      "outputs": []
    },
    {
      "cell_type": "markdown",
      "source": [
        "###Scrape Instagram for images"
      ],
      "metadata": {
        "id": "wY8JQztikK8b"
      }
    },
    {
      "cell_type": "code",
      "metadata": {
        "id": "C_Ua7rjySPy9"
      },
      "source": [
        "#install instagram-scraper library\n",
        "!pip install instagram-scraper --upgrade"
      ],
      "execution_count": null,
      "outputs": []
    },
    {
      "cell_type": "code",
      "metadata": {
        "id": "SwuwVufXSh2m"
      },
      "source": [
        "#scrape instagram by username. requires valid login credentials\n",
        "!instagram-scraper bcantl3y -u <username> -p <password>   "
      ],
      "execution_count": null,
      "outputs": []
    },
    {
      "cell_type": "code",
      "metadata": {
        "id": "p79GzDYET07p"
      },
      "source": [
        "#zip downloaded images\n",
        "!zip -r bcantl3y.zip /content/bcantl3y"
      ],
      "execution_count": null,
      "outputs": []
    }
  ]
}