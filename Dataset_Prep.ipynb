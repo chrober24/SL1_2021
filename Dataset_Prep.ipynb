{
  "nbformat": 4,
  "nbformat_minor": 0,
  "metadata": {
    "colab": {
      "name": "Dataset_Prep.ipynb",
      "provenance": [],
      "machine_shape": "hm",
      "include_colab_link": true
    },
    "kernelspec": {
      "name": "python3",
      "display_name": "Python 3"
    },
    "language_info": {
      "name": "python"
    },
    "accelerator": "GPU"
  },
  "cells": [
    {
      "cell_type": "markdown",
      "metadata": {
        "id": "view-in-github",
        "colab_type": "text"
      },
      "source": [
        "<a href=\"https://colab.research.google.com/github/chrober24/SL1_2021/blob/main/Dataset_Prep.ipynb\" target=\"_parent\"><img src=\"https://colab.research.google.com/assets/colab-badge.svg\" alt=\"Open In Colab\"/></a>"
      ]
    },
    {
      "cell_type": "markdown",
      "metadata": {
        "id": "ov1iqYwkDEeY"
      },
      "source": [
        "#Dataset Preparation\n",
        "\n",
        "this notebook contains code for praparing image datasets for use with stylegan2 and other image-based ML models.\n",
        "\n",
        "This notebook is derrived from code written by [Derrick Shultz](https://github.com/dvschultz/dataset-tools)"
      ]
    },
    {
      "cell_type": "code",
      "metadata": {
        "id": "Gdl_HcPhkTsv",
        "colab": {
          "base_uri": "https://localhost:8080/"
        },
        "outputId": "869f369e-8ef2-492d-9934-e8197aafdbc4"
      },
      "source": [
        "from google.colab import drive\n",
        "drive.mount('/content/drive')"
      ],
      "execution_count": null,
      "outputs": [
        {
          "output_type": "stream",
          "text": [
            "Go to this URL in a browser: https://accounts.google.com/o/oauth2/auth?client_id=947318989803-6bn6qk8qdgf4n4g3pfee6491hc0brc4i.apps.googleusercontent.com&redirect_uri=urn%3aietf%3awg%3aoauth%3a2.0%3aoob&scope=email%20https%3a%2f%2fwww.googleapis.com%2fauth%2fdocs.test%20https%3a%2f%2fwww.googleapis.com%2fauth%2fdrive%20https%3a%2f%2fwww.googleapis.com%2fauth%2fdrive.photos.readonly%20https%3a%2f%2fwww.googleapis.com%2fauth%2fpeopleapi.readonly%20https%3a%2f%2fwww.googleapis.com%2fauth%2fdrive.activity.readonly%20https%3a%2f%2fwww.googleapis.com%2fauth%2fexperimentsandconfigs%20https%3a%2f%2fwww.googleapis.com%2fauth%2fphotos.native&response_type=code\n",
            "\n",
            "Enter your authorization code:\n",
            "4/1AX4XfWgVkyuwU2hIl2MlzP6WN53LhG7calZrv-s386LlpcWUj0hJlZAPLOQ\n",
            "Mounted at /content/drive\n"
          ],
          "name": "stdout"
        }
      ]
    },
    {
      "cell_type": "markdown",
      "metadata": {
        "id": "qmEVVvWq8rkF"
      },
      "source": [
        "#setup\n",
        "\n",
        "only run this cell the first time you use this notebook.\n",
        "\n",
        "This cell downloads all of the necessary files into your google drive "
      ]
    },
    {
      "cell_type": "code",
      "metadata": {
        "id": "1B3ujI0p_eV5"
      },
      "source": [
        "%cd /content/drive/MyDrive/\n",
        "!mkdir dataset_prep\n",
        "%cd dataset_prep/\n",
        "!git clone https://github.com/dvschultz/dataset-tools.git\n",
        "%cd dataset-tools\n",
        "!pip install -r requirements.txt\n",
        "!mkdir input\n",
        "!mkdir output"
      ],
      "execution_count": null,
      "outputs": []
    },
    {
      "cell_type": "markdown",
      "metadata": {
        "id": "YQHdV8o9q-BM"
      },
      "source": [
        "Run after initial setup each time"
      ]
    },
    {
      "cell_type": "code",
      "metadata": {
        "id": "vn3gY1frpaj_"
      },
      "source": [
        "%cd /content/drive/MyDrive/dataset_prep/dataset-tools/\n",
        "!pip install -r requirements.txt"
      ],
      "execution_count": null,
      "outputs": []
    },
    {
      "cell_type": "markdown",
      "metadata": {
        "id": "ElbFHsZj8-Pg"
      },
      "source": [
        "#Dataset Preparation\n",
        "\n",
        "##Dataset_Tools\n",
        "\n",
        "This code gives you multiple options for cropping and formatting images in a dataset.\n",
        "\n",
        "all options can be found in the README.md\n",
        "\n"
      ]
    },
    {
      "cell_type": "code",
      "metadata": {
        "id": "XLXVD4xyAMxk"
      },
      "source": [
        "!python dataset-tools.py --input_folder /content/drive/MyDrive/dataset_prep/dataset-tools/input/human_insect_limbs/ --output_folder /content/drive/MyDrive/dataset_prep/dataset-tools/output/human_insect_limbs_png/ --process_type=crop_to_square --max_size=512 --force_max"
      ],
      "execution_count": null,
      "outputs": []
    },
    {
      "cell_type": "markdown",
      "metadata": {
        "id": "0Vwmg2vVB5_7"
      },
      "source": [
        "##Dedupe\n",
        "\n",
        "This code searches for and deletes duplicate images within your dataset"
      ]
    },
    {
      "cell_type": "code",
      "metadata": {
        "id": "qL1pmifyB1Wl"
      },
      "source": [
        "!python dedupe.py --input_folder /content/drive/MyDrive/dataset_prep/dataset-tools/input/ --output_folder /content/drive/MyDrive/dataset_prep/dataset-tools/output/ --relative"
      ],
      "execution_count": null,
      "outputs": []
    },
    {
      "cell_type": "markdown",
      "metadata": {
        "id": "Rl5ZikjwF3Bw"
      },
      "source": [
        "##Interactive\n",
        "\n",
        "This is an interactive image alignment tool \n",
        "\n",
        "please see this [video](https://youtu.be/tUzUJNrSAu8) for a tutorial"
      ]
    },
    {
      "cell_type": "code",
      "metadata": {
        "id": "ha52z3yRGNAQ"
      },
      "source": [
        "!python interactive.py"
      ],
      "execution_count": null,
      "outputs": []
    }
  ]
}