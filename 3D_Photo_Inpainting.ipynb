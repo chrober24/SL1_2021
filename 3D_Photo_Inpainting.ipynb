{
  "nbformat": 4,
  "nbformat_minor": 0,
  "metadata": {
    "colab": {
      "name": "Copy of 3D-Photo-Inpainting.ipynb",
      "provenance": [],
      "collapsed_sections": [],
      "machine_shape": "hm",
      "include_colab_link": true
    },
    "kernelspec": {
      "name": "python3",
      "display_name": "Python 3"
    },
    "accelerator": "GPU"
  },
  "cells": [
    {
      "cell_type": "markdown",
      "metadata": {
        "id": "view-in-github",
        "colab_type": "text"
      },
      "source": [
        "<a href=\"https://colab.research.google.com/github/chrober24/SL_2021-2022/blob/main/3D_Photo_Inpainting.ipynb\" target=\"_parent\"><img src=\"https://colab.research.google.com/assets/colab-badge.svg\" alt=\"Open In Colab\"/></a>"
      ]
    },
    {
      "cell_type": "markdown",
      "metadata": {
        "id": "IY-s3ZpHBeAU"
      },
      "source": [
        "**[CVPR 2020] 3D Photography using Context-aware Layered Depth Inpainting**\n",
        "\n",
        "[project website](https://shihmengli.github.io/3D-Photo-Inpainting/)"
      ]
    },
    {
      "cell_type": "markdown",
      "metadata": {
        "id": "LPQ0EWxgvMIc"
      },
      "source": [
        "- **Prepare environment**\n"
      ]
    },
    {
      "cell_type": "code",
      "metadata": {
        "id": "5o-EIMeaghU0",
        "colab": {
          "base_uri": "https://localhost:8080/"
        },
        "outputId": "4279f5d6-fa83-434a-9db6-14a48abd8f71"
      },
      "source": [
        "!pip3 install vispy==0.6.4 moviepy==1.0.2 networkx==2.3 transforms3d==0.3.1"
      ],
      "execution_count": null,
      "outputs": [
        {
          "output_type": "stream",
          "text": [
            "Collecting vispy==0.6.4\n",
            "\u001b[?25l  Downloading https://files.pythonhosted.org/packages/5f/7e/9e24a986e8fe2ee94588f806e1c4579c8c285e7e42b70189d79db4132e07/vispy-0.6.4-cp37-cp37m-manylinux2010_x86_64.whl (2.3MB)\n",
            "\u001b[K     |████████████████████████████████| 2.3MB 14.1MB/s \n",
            "\u001b[?25hCollecting moviepy==1.0.2\n",
            "\u001b[?25l  Downloading https://files.pythonhosted.org/packages/71/64/e7f0876716d5c35612bf8e9e49299d0f491285f10f36cbb481556ab0062b/moviepy-1.0.2.tar.gz (7.8MB)\n",
            "\u001b[K     |████████████████████████████████| 7.9MB 10.5MB/s \n",
            "\u001b[?25hCollecting networkx==2.3\n",
            "\u001b[?25l  Downloading https://files.pythonhosted.org/packages/85/08/f20aef11d4c343b557e5de6b9548761811eb16e438cee3d32b1c66c8566b/networkx-2.3.zip (1.7MB)\n",
            "\u001b[K     |████████████████████████████████| 1.8MB 47.8MB/s \n",
            "\u001b[?25hCollecting transforms3d==0.3.1\n",
            "\u001b[?25l  Downloading https://files.pythonhosted.org/packages/b5/f7/e85809168a548a854d7c1331560c27b4f5381698d29c12e57759192b2bc1/transforms3d-0.3.1.tar.gz (62kB)\n",
            "\u001b[K     |████████████████████████████████| 71kB 9.0MB/s \n",
            "\u001b[?25hRequirement already satisfied: numpy in /usr/local/lib/python3.7/dist-packages (from vispy==0.6.4) (1.19.5)\n",
            "Collecting freetype-py\n",
            "\u001b[?25l  Downloading https://files.pythonhosted.org/packages/40/b5/56751e13f8b4a42f52c1b85ecce1446f83245190d820b42748eb8574ae43/freetype_py-2.2.0-py3-none-manylinux1_x86_64.whl (890kB)\n",
            "\u001b[K     |████████████████████████████████| 890kB 57.2MB/s \n",
            "\u001b[?25hRequirement already satisfied: decorator<5.0,>=4.0.2 in /usr/local/lib/python3.7/dist-packages (from moviepy==1.0.2) (4.4.2)\n",
            "Requirement already satisfied: tqdm<5.0,>=4.11.2 in /usr/local/lib/python3.7/dist-packages (from moviepy==1.0.2) (4.41.1)\n",
            "Requirement already satisfied: requests<3.0,>=2.8.1 in /usr/local/lib/python3.7/dist-packages (from moviepy==1.0.2) (2.23.0)\n",
            "Collecting proglog<=1.0.0\n",
            "  Downloading https://files.pythonhosted.org/packages/fe/ab/4cb19b578e1364c0b2d6efd6521a8b4b4e5c4ae6528041d31a2a951dd991/proglog-0.1.9.tar.gz\n",
            "Collecting imageio<3.0,>=2.5\n",
            "\u001b[?25l  Downloading https://files.pythonhosted.org/packages/6e/57/5d899fae74c1752f52869b613a8210a2480e1a69688e65df6cb26117d45d/imageio-2.9.0-py3-none-any.whl (3.3MB)\n",
            "\u001b[K     |████████████████████████████████| 3.3MB 39.8MB/s \n",
            "\u001b[?25hCollecting imageio_ffmpeg>=0.2.0\n",
            "\u001b[?25l  Downloading https://files.pythonhosted.org/packages/d0/93/fbdfebeb76d6a44d9224473b6df2575d4443be9b857b88ccf9ef9e251530/imageio_ffmpeg-0.4.4-py3-none-manylinux2010_x86_64.whl (26.9MB)\n",
            "\u001b[K     |████████████████████████████████| 26.9MB 1.3MB/s \n",
            "\u001b[?25hRequirement already satisfied: idna<3,>=2.5 in /usr/local/lib/python3.7/dist-packages (from requests<3.0,>=2.8.1->moviepy==1.0.2) (2.10)\n",
            "Requirement already satisfied: chardet<4,>=3.0.2 in /usr/local/lib/python3.7/dist-packages (from requests<3.0,>=2.8.1->moviepy==1.0.2) (3.0.4)\n",
            "Requirement already satisfied: urllib3!=1.25.0,!=1.25.1,<1.26,>=1.21.1 in /usr/local/lib/python3.7/dist-packages (from requests<3.0,>=2.8.1->moviepy==1.0.2) (1.24.3)\n",
            "Requirement already satisfied: certifi>=2017.4.17 in /usr/local/lib/python3.7/dist-packages (from requests<3.0,>=2.8.1->moviepy==1.0.2) (2021.5.30)\n",
            "Requirement already satisfied: pillow in /usr/local/lib/python3.7/dist-packages (from imageio<3.0,>=2.5->moviepy==1.0.2) (7.1.2)\n",
            "Building wheels for collected packages: moviepy, networkx, transforms3d, proglog\n",
            "  Building wheel for moviepy (setup.py) ... \u001b[?25l\u001b[?25hdone\n",
            "  Created wheel for moviepy: filename=moviepy-1.0.2-cp37-none-any.whl size=110744 sha256=cf7e9e3ae11bde588cb44d0a832c7b2b3b569b73490aa6d3d05f00550b7f73d4\n",
            "  Stored in directory: /root/.cache/pip/wheels/20/49/a9/770a9a22e7a020d796ab3784d2dc4839e38450a1ac87e6106f\n",
            "  Building wheel for networkx (setup.py) ... \u001b[?25l\u001b[?25hdone\n",
            "  Created wheel for networkx: filename=networkx-2.3-py2.py3-none-any.whl size=1556427 sha256=68c25af82cb891f9a754dadf1f50b793ca1a8bfc17f1eb5d3339c028b43bd95b\n",
            "  Stored in directory: /root/.cache/pip/wheels/de/63/64/3699be2a9d0ccdb37c7f16329acf3863fd76eda58c39c737af\n",
            "  Building wheel for transforms3d (setup.py) ... \u001b[?25l\u001b[?25hdone\n",
            "  Created wheel for transforms3d: filename=transforms3d-0.3.1-cp37-none-any.whl size=59374 sha256=f1fc097a7ce70129a62f0bd0162bc9acb2b0ed3121987070633188cc07c43b16\n",
            "  Stored in directory: /root/.cache/pip/wheels/3d/3c/84/28d36677f3c760c048bd02b5a547ea0c4027770cc9cdb9af1e\n",
            "  Building wheel for proglog (setup.py) ... \u001b[?25l\u001b[?25hdone\n",
            "  Created wheel for proglog: filename=proglog-0.1.9-cp37-none-any.whl size=6158 sha256=c0260d0ca7c7b27411dd080ba3d661fb7b5da94e03914b8feccb7f89ae58cbab\n",
            "  Stored in directory: /root/.cache/pip/wheels/65/56/60/1d0306a8d90b188af393c1812ddb502a8821b70917f82dcc00\n",
            "Successfully built moviepy networkx transforms3d proglog\n",
            "\u001b[31mERROR: albumentations 0.1.12 has requirement imgaug<0.2.7,>=0.2.5, but you'll have imgaug 0.2.9 which is incompatible.\u001b[0m\n",
            "Installing collected packages: freetype-py, vispy, proglog, imageio, imageio-ffmpeg, moviepy, networkx, transforms3d\n",
            "  Found existing installation: imageio 2.4.1\n",
            "    Uninstalling imageio-2.4.1:\n",
            "      Successfully uninstalled imageio-2.4.1\n",
            "  Found existing installation: moviepy 0.2.3.5\n",
            "    Uninstalling moviepy-0.2.3.5:\n",
            "      Successfully uninstalled moviepy-0.2.3.5\n",
            "  Found existing installation: networkx 2.5.1\n",
            "    Uninstalling networkx-2.5.1:\n",
            "      Successfully uninstalled networkx-2.5.1\n",
            "Successfully installed freetype-py-2.2.0 imageio-2.9.0 imageio-ffmpeg-0.4.4 moviepy-1.0.2 networkx-2.3 proglog-0.1.9 transforms3d-0.3.1 vispy-0.6.4\n"
          ],
          "name": "stdout"
        }
      ]
    },
    {
      "cell_type": "markdown",
      "metadata": {
        "id": "c-g7AeLMvY0R"
      },
      "source": [
        "- **Download script and pretrained model**\n"
      ]
    },
    {
      "cell_type": "code",
      "metadata": {
        "id": "cOFIBkWrBlNM",
        "colab": {
          "base_uri": "https://localhost:8080/"
        },
        "outputId": "977398fd-1916-40b7-9100-2cf9b734c37e"
      },
      "source": [
        "%cd /content/\n",
        "!git clone https://github.com/vt-vl-lab/3d-photo-inpainting.git\n",
        "%cd 3d-photo-inpainting\n",
        "!sh download.sh"
      ],
      "execution_count": null,
      "outputs": [
        {
          "output_type": "stream",
          "text": [
            "/content\n",
            "Cloning into '3d-photo-inpainting'...\n",
            "remote: Enumerating objects: 350, done.\u001b[K\n",
            "remote: Total 350 (delta 0), reused 0 (delta 0), pack-reused 350\u001b[K\n",
            "Receiving objects: 100% (350/350), 130.13 MiB | 20.51 MiB/s, done.\n",
            "Resolving deltas: 100% (192/192), done.\n",
            "/content/3d-photo-inpainting\n",
            "downloading from filebox ...\n",
            "--2021-06-15 17:44:02--  https://filebox.ece.vt.edu/~jbhuang/project/3DPhoto/model/color-model.pth\n",
            "Resolving filebox.ece.vt.edu (filebox.ece.vt.edu)... 128.173.88.43\n",
            "Connecting to filebox.ece.vt.edu (filebox.ece.vt.edu)|128.173.88.43|:443... connected.\n",
            "HTTP request sent, awaiting response... 200 OK\n",
            "Length: 206331633 (197M)\n",
            "Saving to: ‘color-model.pth’\n",
            "\n",
            "color-model.pth     100%[===================>] 196.77M  28.0MB/s    in 7.8s    \n",
            "\n",
            "2021-06-15 17:44:10 (25.1 MB/s) - ‘color-model.pth’ saved [206331633/206331633]\n",
            "\n",
            "--2021-06-15 17:44:10--  https://filebox.ece.vt.edu/~jbhuang/project/3DPhoto/model/depth-model.pth\n",
            "Resolving filebox.ece.vt.edu (filebox.ece.vt.edu)... 128.173.88.43\n",
            "Connecting to filebox.ece.vt.edu (filebox.ece.vt.edu)|128.173.88.43|:443... connected.\n",
            "HTTP request sent, awaiting response... 200 OK\n",
            "Length: 206272258 (197M)\n",
            "Saving to: ‘depth-model.pth’\n",
            "\n",
            "depth-model.pth     100%[===================>] 196.72M  27.8MB/s    in 7.9s    \n",
            "\n",
            "2021-06-15 17:44:19 (25.0 MB/s) - ‘depth-model.pth’ saved [206272258/206272258]\n",
            "\n",
            "--2021-06-15 17:44:19--  https://filebox.ece.vt.edu/~jbhuang/project/3DPhoto/model/edge-model.pth\n",
            "Resolving filebox.ece.vt.edu (filebox.ece.vt.edu)... 128.173.88.43\n",
            "Connecting to filebox.ece.vt.edu (filebox.ece.vt.edu)|128.173.88.43|:443... connected.\n",
            "HTTP request sent, awaiting response... 200 OK\n",
            "Length: 45974122 (44M)\n",
            "Saving to: ‘edge-model.pth’\n",
            "\n",
            "edge-model.pth      100%[===================>]  43.84M  18.5MB/s    in 2.4s    \n",
            "\n",
            "2021-06-15 17:44:21 (18.5 MB/s) - ‘edge-model.pth’ saved [45974122/45974122]\n",
            "\n",
            "--2021-06-15 17:44:21--  https://filebox.ece.vt.edu/~jbhuang/project/3DPhoto/model/model.pt\n",
            "Resolving filebox.ece.vt.edu (filebox.ece.vt.edu)... 128.173.88.43\n",
            "Connecting to filebox.ece.vt.edu (filebox.ece.vt.edu)|128.173.88.43|:443... connected.\n",
            "HTTP request sent, awaiting response... 200 OK\n",
            "Length: 149751722 (143M)\n",
            "Saving to: ‘model.pt’\n",
            "\n",
            "model.pt            100%[===================>] 142.81M  28.3MB/s    in 5.8s    \n",
            "\n",
            "2021-06-15 17:44:28 (24.4 MB/s) - ‘model.pt’ saved [149751722/149751722]\n",
            "\n"
          ],
          "name": "stdout"
        }
      ]
    },
    {
      "cell_type": "code",
      "metadata": {
        "colab": {
          "base_uri": "https://localhost:8080/"
        },
        "id": "NHHnvmgNkIHv",
        "outputId": "1ed655ba-6b20-4514-83da-50b4826a5778"
      },
      "source": [
        "from google.colab import drive\n",
        "drive.mount('/content/drive')"
      ],
      "execution_count": null,
      "outputs": [
        {
          "output_type": "stream",
          "text": [
            "Mounted at /content/drive\n"
          ],
          "name": "stdout"
        }
      ]
    },
    {
      "cell_type": "markdown",
      "metadata": {
        "id": "D_Fg_aMeDnmd"
      },
      "source": [
        "- **Switch off off-screen rendering**"
      ]
    },
    {
      "cell_type": "code",
      "metadata": {
        "id": "S9TmdOBRDXcV"
      },
      "source": [
        "!sed -i 's/offscreen_rendering: True/offscreen_rendering: False/g' argument.yml"
      ],
      "execution_count": null,
      "outputs": []
    },
    {
      "cell_type": "markdown",
      "metadata": {
        "id": "cCN8L7GiDpZA"
      },
      "source": [
        "- **Please upload `.jpg` files to `/content/3d-photo-inpainting-master/image/`**\n",
        "  - You can run this step multiple times to upload multiple `.jpg` files."
      ]
    },
    {
      "cell_type": "code",
      "metadata": {
        "id": "n-Kl6fo1oows",
        "colab": {
          "resources": {
            "http://localhost:8080/nbextensions/google.colab/files.js": {
              "data": "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",
              "ok": true,
              "headers": [
                [
                  "content-type",
                  "application/javascript"
                ]
              ],
              "status": 200,
              "status_text": ""
            }
          },
          "base_uri": "https://localhost:8080/",
          "height": 125
        },
        "outputId": "e3d1c131-b486-42ab-8a43-2a9394ab51e8"
      },
      "source": [
        "%cd image\n",
        "from google.colab import files\n",
        "uploaded = files.upload()\n",
        "for fn in uploaded.keys():\n",
        "  print('User uploaded file \"{name}\" with length {length} bytes'.format(\n",
        "      name=fn, length=len(uploaded[fn])))\n",
        "%cd .."
      ],
      "execution_count": null,
      "outputs": [
        {
          "output_type": "stream",
          "text": [
            "/content/3d-photo-inpainting/image\n"
          ],
          "name": "stdout"
        },
        {
          "output_type": "display_data",
          "data": {
            "text/html": [
              "\n",
              "     <input type=\"file\" id=\"files-042797d2-d67e-416d-8e75-79a4847aae62\" name=\"files[]\" multiple disabled\n",
              "        style=\"border:none\" />\n",
              "     <output id=\"result-042797d2-d67e-416d-8e75-79a4847aae62\">\n",
              "      Upload widget is only available when the cell has been executed in the\n",
              "      current browser session. Please rerun this cell to enable.\n",
              "      </output>\n",
              "      <script src=\"/nbextensions/google.colab/files.js\"></script> "
            ],
            "text/plain": [
              "<IPython.core.display.HTML object>"
            ]
          },
          "metadata": {
            "tags": []
          }
        },
        {
          "output_type": "stream",
          "text": [
            "Saving 4.png to 4.png\n",
            "User uploaded file \"4.png\" with length 1805244 bytes\n",
            "/content/3d-photo-inpainting\n"
          ],
          "name": "stdout"
        }
      ]
    },
    {
      "cell_type": "markdown",
      "metadata": {
        "id": "wyLFopwVDzUg"
      },
      "source": [
        "- **Execute the 3D Photo Inpainting**\n",
        "  - Note: The 3D photo generation process usually takes about 2-3 minutes or more depending on the available computing resources."
      ]
    },
    {
      "cell_type": "code",
      "metadata": {
        "colab": {
          "base_uri": "https://localhost:8080/"
        },
        "id": "r7kMaxaGLEQq",
        "outputId": "ea46b931-3e19-49cc-c9ec-d2b8ad12bb84"
      },
      "source": [
        "%cd /content/3d-photo-inpainting/"
      ],
      "execution_count": null,
      "outputs": [
        {
          "output_type": "stream",
          "text": [
            "/content/3d-photo-inpainting\n"
          ],
          "name": "stdout"
        }
      ]
    },
    {
      "cell_type": "code",
      "metadata": {
        "id": "i5-MWEjfBjYx",
        "colab": {
          "base_uri": "https://localhost:8080/"
        },
        "outputId": "f403f009-8c72-4ac4-c622-9bc95ddb1354"
      },
      "source": [
        "!python main.py --config argument.yml"
      ],
      "execution_count": null,
      "outputs": [
        {
          "output_type": "stream",
          "text": [
            "running on device 0\n",
            "\r  0% 0/1 [00:00<?, ?it/s]Current Source ==>  4\n",
            "Running depth extraction at 1623779890.1195784\n",
            "initialize\n",
            "device: cpu\n",
            "start processing\n",
            "  processing image/4.png (1/1)\n",
            "torch.Size([1, 3, 224, 384])\n",
            "finished\n",
            "Start Running 3D_Photo ...\n",
            "Loading edge model at 1623779911.1703594\n",
            "Loading depth model at 1623779914.6318421\n",
            "Loading rgb model at 1623779915.4888425\n",
            "Writing depth ply (and basically doing everything) at 1623779916.276166\n",
            "Writing mesh file mesh/4.ply ...\n",
            "Making video at 1623780188.8241718\n",
            "fov: 53.13010235415598\n",
            "Moviepy - Building video video/4_dolly-zoom-in.mp4.\n",
            "Moviepy - Writing video video/4_dolly-zoom-in.mp4\n",
            "\n",
            "  0% 0/1 [05:54<?, ?it/s]\n",
            "t:   0% 0/241 [00:00<?, ?it/s, now=None]\u001b[A\n",
            "t:   5% 11/241 [00:00<00:02, 102.27it/s, now=None]\u001b[A\n",
            "t:   9% 22/241 [00:00<00:02, 102.41it/s, now=None]\u001b[A\n",
            "t:  14% 33/241 [00:00<00:02, 102.66it/s, now=None]\u001b[A\n",
            "t:  18% 44/241 [00:00<00:01, 103.24it/s, now=None]\u001b[A\n",
            "t:  22% 52/241 [00:00<00:03, 58.07it/s, now=None] \u001b[A\n",
            "t:  24% 59/241 [00:00<00:03, 47.16it/s, now=None]\u001b[A\n",
            "t:  27% 65/241 [00:01<00:04, 41.12it/s, now=None]\u001b[A\n",
            "t:  29% 70/241 [00:01<00:04, 36.41it/s, now=None]\u001b[A\n",
            "t:  32% 76/241 [00:01<00:04, 40.39it/s, now=None]\u001b[A\n",
            "t:  34% 81/241 [00:01<00:04, 35.58it/s, now=None]\u001b[A\n",
            "t:  36% 86/241 [00:01<00:04, 34.04it/s, now=None]\u001b[A\n",
            "t:  38% 92/241 [00:01<00:03, 38.02it/s, now=None]\u001b[A\n",
            "t:  40% 97/241 [00:02<00:04, 33.89it/s, now=None]\u001b[A\n",
            "t:  42% 102/241 [00:02<00:04, 32.75it/s, now=None]\u001b[A\n",
            "t:  44% 107/241 [00:02<00:03, 36.27it/s, now=None]\u001b[A\n",
            "t:  46% 111/241 [00:02<00:04, 31.22it/s, now=None]\u001b[A\n",
            "t:  48% 116/241 [00:02<00:03, 34.81it/s, now=None]\u001b[A\n",
            "t:  50% 120/241 [00:02<00:03, 33.08it/s, now=None]\u001b[A\n",
            "t:  51% 124/241 [00:02<00:03, 34.47it/s, now=None]\u001b[A\n",
            "t:  53% 128/241 [00:02<00:03, 32.39it/s, now=None]\u001b[A\n",
            "t:  55% 132/241 [00:03<00:03, 33.40it/s, now=None]\u001b[A\n",
            "t:  56% 136/241 [00:03<00:03, 33.50it/s, now=None]\u001b[A\n",
            "t:  58% 140/241 [00:03<00:03, 33.37it/s, now=None]\u001b[A\n",
            "t:  60% 144/241 [00:03<00:02, 33.31it/s, now=None]\u001b[A\n",
            "t:  61% 148/241 [00:03<00:02, 33.75it/s, now=None]\u001b[A\n",
            "t:  63% 152/241 [00:03<00:02, 31.72it/s, now=None]\u001b[A\n",
            "t:  65% 157/241 [00:03<00:02, 35.57it/s, now=None]\u001b[A\n",
            "t:  67% 161/241 [00:03<00:02, 31.18it/s, now=None]\u001b[A\n",
            "t:  69% 166/241 [00:04<00:02, 32.05it/s, now=None]\u001b[A\n",
            "t:  71% 170/241 [00:04<00:02, 31.07it/s, now=None]\u001b[A\n",
            "t:  73% 175/241 [00:04<00:01, 34.30it/s, now=None]\u001b[A\n",
            "t:  74% 179/241 [00:04<00:01, 31.78it/s, now=None]\u001b[A\n",
            "t:  76% 183/241 [00:04<00:01, 32.92it/s, now=None]\u001b[A\n",
            "t:  78% 187/241 [00:04<00:01, 32.06it/s, now=None]\u001b[A\n",
            "t:  79% 191/241 [00:04<00:01, 33.24it/s, now=None]\u001b[A\n",
            "t:  81% 195/241 [00:04<00:01, 33.31it/s, now=None]\u001b[A\n",
            "t:  83% 199/241 [00:05<00:01, 32.40it/s, now=None]\u001b[A\n",
            "t:  84% 203/241 [00:05<00:01, 32.32it/s, now=None]\u001b[A\n",
            "t:  86% 207/241 [00:05<00:00, 34.28it/s, now=None]\u001b[A\n",
            "t:  88% 211/241 [00:05<00:00, 30.52it/s, now=None]\u001b[A\n",
            "t:  90% 217/241 [00:05<00:00, 34.87it/s, now=None]\u001b[A\n",
            "t:  92% 221/241 [00:05<00:00, 31.63it/s, now=None]\u001b[A\n",
            "t:  94% 226/241 [00:05<00:00, 30.39it/s, now=None]\u001b[A\n",
            "t:  96% 231/241 [00:06<00:00, 34.08it/s, now=None]\u001b[A\n",
            "t:  98% 235/241 [00:06<00:00, 30.61it/s, now=None]\u001b[A\n",
            "t: 100% 241/241 [00:06<00:00, 35.32it/s, now=None]\u001b[A\n",
            "Moviepy - Done !\n",
            "Moviepy - video ready video/4_dolly-zoom-in.mp4\n",
            "Moviepy - Building video video/4_zoom-in.mp4.\n",
            "Moviepy - Writing video video/4_zoom-in.mp4\n",
            "\n",
            "  0% 0/1 [06:54<?, ?it/s]\n",
            "t:   0% 0/241 [00:00<?, ?it/s, now=None]\u001b[A\n",
            "t:   5% 11/241 [00:00<00:02, 103.09it/s, now=None]\u001b[A\n",
            "t:   9% 22/241 [00:00<00:02, 104.04it/s, now=None]\u001b[A\n",
            "t:  14% 33/241 [00:00<00:02, 103.65it/s, now=None]\u001b[A\n",
            "t:  18% 44/241 [00:00<00:01, 103.41it/s, now=None]\u001b[A\n",
            "t:  22% 52/241 [00:00<00:03, 49.38it/s, now=None] \u001b[A\n",
            "t:  24% 59/241 [00:01<00:04, 40.08it/s, now=None]\u001b[A\n",
            "t:  27% 65/241 [00:01<00:04, 36.85it/s, now=None]\u001b[A\n",
            "t:  29% 70/241 [00:01<00:04, 34.42it/s, now=None]\u001b[A\n",
            "t:  31% 75/241 [00:01<00:04, 34.00it/s, now=None]\u001b[A\n",
            "t:  33% 79/241 [00:01<00:05, 31.55it/s, now=None]\u001b[A\n",
            "t:  34% 83/241 [00:01<00:05, 31.15it/s, now=None]\u001b[A\n",
            "t:  36% 87/241 [00:01<00:04, 31.19it/s, now=None]\u001b[A\n",
            "t:  38% 91/241 [00:02<00:04, 30.72it/s, now=None]\u001b[A\n",
            "t:  39% 95/241 [00:02<00:04, 29.34it/s, now=None]\u001b[A\n",
            "t:  41% 99/241 [00:02<00:04, 30.31it/s, now=None]\u001b[A\n",
            "t:  43% 103/241 [00:02<00:04, 29.02it/s, now=None]\u001b[A\n",
            "t:  44% 107/241 [00:02<00:04, 30.85it/s, now=None]\u001b[A\n",
            "t:  46% 111/241 [00:02<00:04, 29.33it/s, now=None]\u001b[A\n",
            "t:  48% 116/241 [00:02<00:03, 32.42it/s, now=None]\u001b[A\n",
            "t:  50% 120/241 [00:03<00:04, 29.29it/s, now=None]\u001b[A\n",
            "t:  51% 124/241 [00:03<00:03, 29.41it/s, now=None]\u001b[A\n",
            "t:  53% 128/241 [00:03<00:03, 28.43it/s, now=None]\u001b[A\n",
            "t:  54% 131/241 [00:03<00:03, 28.74it/s, now=None]\u001b[A\n",
            "t:  56% 134/241 [00:03<00:03, 27.06it/s, now=None]\u001b[A\n",
            "t:  57% 138/241 [00:03<00:03, 27.81it/s, now=None]\u001b[A\n",
            "t:  59% 142/241 [00:03<00:03, 30.03it/s, now=None]\u001b[A\n",
            "t:  61% 146/241 [00:03<00:03, 29.65it/s, now=None]\u001b[A\n",
            "t:  62% 150/241 [00:04<00:03, 27.88it/s, now=None]\u001b[A\n",
            "t:  64% 154/241 [00:04<00:03, 28.62it/s, now=None]\u001b[A\n",
            "t:  66% 158/241 [00:04<00:02, 28.01it/s, now=None]\u001b[A\n",
            "t:  67% 162/241 [00:04<00:02, 28.06it/s, now=None]\u001b[A\n",
            "t:  69% 166/241 [00:04<00:02, 28.72it/s, now=None]\u001b[A\n",
            "t:  71% 170/241 [00:04<00:02, 29.08it/s, now=None]\u001b[A\n",
            "t:  72% 174/241 [00:04<00:02, 30.22it/s, now=None]\u001b[A\n",
            "t:  74% 178/241 [00:05<00:02, 28.67it/s, now=None]\u001b[A\n",
            "t:  76% 183/241 [00:05<00:01, 30.82it/s, now=None]\u001b[A\n",
            "t:  78% 187/241 [00:05<00:01, 28.97it/s, now=None]\u001b[A\n",
            "t:  79% 191/241 [00:05<00:01, 30.08it/s, now=None]\u001b[A\n",
            "t:  81% 195/241 [00:05<00:01, 28.82it/s, now=None]\u001b[A\n",
            "t:  83% 199/241 [00:05<00:01, 30.47it/s, now=None]\u001b[A\n",
            "t:  84% 203/241 [00:05<00:01, 27.69it/s, now=None]\u001b[A\n",
            "t:  86% 208/241 [00:06<00:01, 31.91it/s, now=None]\u001b[A\n",
            "t:  88% 212/241 [00:06<00:01, 28.59it/s, now=None]\u001b[A\n",
            "t:  90% 216/241 [00:06<00:00, 29.63it/s, now=None]\u001b[A\n",
            "t:  91% 220/241 [00:06<00:00, 27.81it/s, now=None]\u001b[A\n",
            "t:  93% 224/241 [00:06<00:00, 29.43it/s, now=None]\u001b[A\n",
            "t:  95% 228/241 [00:06<00:00, 28.91it/s, now=None]\u001b[A\n",
            "t:  96% 232/241 [00:06<00:00, 30.56it/s, now=None]\u001b[A\n",
            "t:  98% 236/241 [00:07<00:00, 27.75it/s, now=None]\u001b[A\n",
            "t: 100% 241/241 [00:07<00:00, 31.83it/s, now=None]\u001b[A\n",
            "Moviepy - Done !\n",
            "Moviepy - video ready video/4_zoom-in.mp4\n",
            "Moviepy - Building video video/4_circle.mp4.\n",
            "Moviepy - Writing video video/4_circle.mp4\n",
            "\n",
            "  0% 0/1 [07:55<?, ?it/s]\n",
            "t:   0% 0/241 [00:00<?, ?it/s, now=None]\u001b[A\n",
            "t:   5% 11/241 [00:00<00:02, 104.92it/s, now=None]\u001b[A\n",
            "t:   9% 22/241 [00:00<00:02, 104.70it/s, now=None]\u001b[A\n",
            "t:  13% 32/241 [00:00<00:02, 102.53it/s, now=None]\u001b[A\n",
            "t:  17% 42/241 [00:00<00:01, 101.52it/s, now=None]\u001b[A\n",
            "t:  21% 50/241 [00:00<00:04, 44.07it/s, now=None] \u001b[A\n",
            "t:  23% 56/241 [00:01<00:05, 36.30it/s, now=None]\u001b[A\n",
            "t:  25% 61/241 [00:01<00:04, 36.04it/s, now=None]\u001b[A\n",
            "t:  27% 66/241 [00:01<00:05, 31.40it/s, now=None]\u001b[A\n",
            "t:  29% 70/241 [00:01<00:05, 29.05it/s, now=None]\u001b[A\n",
            "t:  31% 74/241 [00:01<00:05, 28.35it/s, now=None]\u001b[A\n",
            "t:  32% 78/241 [00:01<00:06, 26.78it/s, now=None]\u001b[A\n",
            "t:  34% 82/241 [00:02<00:06, 24.88it/s, now=None]\u001b[A\n",
            "t:  35% 85/241 [00:02<00:06, 25.87it/s, now=None]\u001b[A\n",
            "t:  37% 88/241 [00:02<00:06, 24.54it/s, now=None]\u001b[A\n",
            "t:  38% 91/241 [00:02<00:06, 23.50it/s, now=None]\u001b[A\n",
            "t:  39% 94/241 [00:02<00:06, 22.97it/s, now=None]\u001b[A\n",
            "t:  41% 98/241 [00:02<00:06, 23.76it/s, now=None]\u001b[A\n",
            "t:  42% 102/241 [00:02<00:05, 25.12it/s, now=None]\u001b[A\n",
            "t:  44% 106/241 [00:03<00:05, 22.61it/s, now=None]\u001b[A\n",
            "t:  46% 110/241 [00:03<00:05, 25.48it/s, now=None]\u001b[A\n",
            "t:  47% 114/241 [00:03<00:05, 22.71it/s, now=None]\u001b[A\n",
            "t:  49% 118/241 [00:03<00:05, 23.96it/s, now=None]\u001b[A\n",
            "t:  51% 122/241 [00:03<00:05, 22.64it/s, now=None]\u001b[A\n",
            "t:  52% 126/241 [00:03<00:04, 25.45it/s, now=None]\u001b[A\n",
            "t:  54% 130/241 [00:04<00:04, 23.18it/s, now=None]\u001b[A\n",
            "t:  56% 134/241 [00:04<00:04, 26.14it/s, now=None]\u001b[A\n",
            "t:  57% 138/241 [00:04<00:04, 22.67it/s, now=None]\u001b[A\n",
            "t:  59% 143/241 [00:04<00:03, 26.79it/s, now=None]\u001b[A\n",
            "t:  61% 147/241 [00:04<00:04, 22.65it/s, now=None]\u001b[A\n",
            "t:  63% 152/241 [00:04<00:03, 27.00it/s, now=None]\u001b[A\n",
            "t:  65% 156/241 [00:05<00:03, 23.03it/s, now=None]\u001b[A\n",
            "t:  67% 161/241 [00:05<00:02, 26.78it/s, now=None]\u001b[A\n",
            "t:  68% 165/241 [00:05<00:03, 23.45it/s, now=None]\u001b[A\n",
            "t:  70% 169/241 [00:05<00:02, 24.36it/s, now=None]\u001b[A\n",
            "t:  71% 172/241 [00:05<00:02, 23.51it/s, now=None]\u001b[A\n",
            "t:  73% 176/241 [00:05<00:02, 26.06it/s, now=None]\u001b[A\n",
            "t:  74% 179/241 [00:06<00:02, 22.17it/s, now=None]\u001b[A\n",
            "t:  76% 183/241 [00:06<00:02, 24.73it/s, now=None]\u001b[A\n",
            "t:  77% 186/241 [00:06<00:02, 21.20it/s, now=None]\u001b[A\n",
            "t:  79% 191/241 [00:06<00:01, 25.23it/s, now=None]\u001b[A\n",
            "t:  81% 195/241 [00:06<00:01, 23.37it/s, now=None]\u001b[A\n",
            "t:  82% 198/241 [00:06<00:01, 24.39it/s, now=None]\u001b[A\n",
            "t:  84% 202/241 [00:06<00:01, 25.61it/s, now=None]\u001b[A\n",
            "t:  85% 205/241 [00:07<00:01, 26.69it/s, now=None]\u001b[A\n",
            "t:  86% 208/241 [00:07<00:01, 25.39it/s, now=None]\u001b[A\n",
            "t:  88% 211/241 [00:07<00:01, 25.91it/s, now=None]\u001b[A\n",
            "t:  89% 214/241 [00:07<00:01, 23.32it/s, now=None]\u001b[A\n",
            "t:  90% 218/241 [00:07<00:00, 26.06it/s, now=None]\u001b[A\n",
            "t:  92% 222/241 [00:07<00:00, 23.02it/s, now=None]\u001b[A\n",
            "t:  94% 226/241 [00:07<00:00, 25.69it/s, now=None]\u001b[A\n",
            "t:  95% 230/241 [00:08<00:00, 25.20it/s, now=None]\u001b[A\n",
            "t:  97% 233/241 [00:08<00:00, 24.54it/s, now=None]\u001b[A\n",
            "t:  99% 238/241 [00:08<00:00, 23.30it/s, now=None]\u001b[A\n",
            "Moviepy - Done !\n",
            "Moviepy - video ready video/4_circle.mp4\n",
            "Moviepy - Building video video/4_swing.mp4.\n",
            "Moviepy - Writing video video/4_swing.mp4\n",
            "\n",
            "  0% 0/1 [08:58<?, ?it/s]\n",
            "t:   0% 0/241 [00:00<?, ?it/s, now=None]\u001b[A\n",
            "t:   4% 10/241 [00:00<00:02, 98.69it/s, now=None]\u001b[A\n",
            "t:   9% 21/241 [00:00<00:02, 99.67it/s, now=None]\u001b[A\n",
            "t:  13% 32/241 [00:00<00:02, 100.32it/s, now=None]\u001b[A\n",
            "t:  18% 43/241 [00:00<00:01, 100.41it/s, now=None]\u001b[A\n",
            "t:  21% 51/241 [00:00<00:04, 43.26it/s, now=None] \u001b[A\n",
            "t:  24% 57/241 [00:01<00:04, 39.04it/s, now=None]\u001b[A\n",
            "t:  26% 63/241 [00:01<00:05, 33.90it/s, now=None]\u001b[A\n",
            "t:  28% 68/241 [00:01<00:07, 22.56it/s, now=None]\u001b[A\n",
            "t:  30% 72/241 [00:01<00:07, 22.36it/s, now=None]\u001b[A\n",
            "t:  32% 77/241 [00:01<00:06, 26.34it/s, now=None]\u001b[A\n",
            "t:  34% 81/241 [00:02<00:06, 24.94it/s, now=None]\u001b[A\n",
            "t:  35% 85/241 [00:02<00:06, 25.77it/s, now=None]\u001b[A\n",
            "t:  37% 89/241 [00:02<00:05, 26.25it/s, now=None]\u001b[A\n",
            "t:  38% 92/241 [00:02<00:06, 23.07it/s, now=None]\u001b[A\n",
            "t:  40% 97/241 [00:02<00:05, 27.40it/s, now=None]\u001b[A\n",
            "t:  42% 101/241 [00:02<00:05, 23.82it/s, now=None]\u001b[A\n",
            "t:  44% 106/241 [00:03<00:05, 23.40it/s, now=None]\u001b[A\n",
            "t:  46% 110/241 [00:03<00:04, 26.36it/s, now=None]\u001b[A\n",
            "t:  47% 114/241 [00:03<00:05, 24.61it/s, now=None]\u001b[A\n",
            "t:  49% 118/241 [00:03<00:04, 27.61it/s, now=None]\u001b[A\n",
            "t:  51% 122/241 [00:03<00:04, 24.48it/s, now=None]\u001b[A\n",
            "t:  52% 126/241 [00:03<00:04, 27.47it/s, now=None]\u001b[A\n",
            "t:  54% 130/241 [00:04<00:04, 24.74it/s, now=None]\u001b[A\n",
            "t:  56% 135/241 [00:04<00:03, 28.58it/s, now=None]\u001b[A\n",
            "t:  58% 139/241 [00:04<00:04, 25.37it/s, now=None]\u001b[A\n",
            "t:  59% 142/241 [00:04<00:03, 25.26it/s, now=None]\u001b[A\n",
            "t:  61% 146/241 [00:04<00:03, 24.69it/s, now=None]\u001b[A\n",
            "t:  62% 150/241 [00:04<00:03, 27.68it/s, now=None]\u001b[A\n",
            "t:  64% 154/241 [00:04<00:03, 25.65it/s, now=None]\u001b[A\n",
            "t:  66% 158/241 [00:05<00:03, 26.34it/s, now=None]\u001b[A\n",
            "t:  67% 162/241 [00:05<00:02, 26.93it/s, now=None]\u001b[A\n",
            "t:  69% 166/241 [00:05<00:02, 29.54it/s, now=None]\u001b[A\n",
            "t:  71% 170/241 [00:05<00:02, 27.55it/s, now=None]\u001b[A\n",
            "t:  73% 175/241 [00:05<00:02, 30.75it/s, now=None]\u001b[A\n",
            "t:  74% 179/241 [00:05<00:02, 27.84it/s, now=None]\u001b[A\n",
            "t:  76% 182/241 [00:05<00:02, 27.37it/s, now=None]\u001b[A\n",
            "t:  77% 186/241 [00:06<00:01, 27.75it/s, now=None]\u001b[A\n",
            "t:  79% 190/241 [00:06<00:01, 26.78it/s, now=None]\u001b[A\n",
            "t:  81% 195/241 [00:06<00:01, 30.73it/s, now=None]\u001b[A\n",
            "t:  83% 199/241 [00:06<00:01, 25.53it/s, now=None]\u001b[A\n",
            "t:  84% 203/241 [00:06<00:01, 28.60it/s, now=None]\u001b[A\n",
            "t:  86% 207/241 [00:06<00:01, 26.05it/s, now=None]\u001b[A\n",
            "t:  87% 210/241 [00:06<00:01, 25.56it/s, now=None]\u001b[A\n",
            "t:  89% 214/241 [00:07<00:01, 24.43it/s, now=None]\u001b[A\n",
            "t:  90% 218/241 [00:07<00:00, 27.10it/s, now=None]\u001b[A\n",
            "t:  92% 222/241 [00:07<00:00, 25.39it/s, now=None]\u001b[A\n",
            "t:  94% 226/241 [00:07<00:00, 28.02it/s, now=None]\u001b[A\n",
            "t:  95% 230/241 [00:07<00:00, 27.99it/s, now=None]\u001b[A\n",
            "t:  97% 234/241 [00:07<00:00, 28.28it/s, now=None]\u001b[A\n",
            "t:  98% 237/241 [00:07<00:00, 27.02it/s, now=None]\u001b[A\n",
            "t: 100% 240/241 [00:08<00:00, 26.79it/s, now=None]\u001b[A\n",
            "Moviepy - Done !\n",
            "Moviepy - video ready video/4_swing.mp4\n",
            "100% 1/1 [09:07<00:00, 547.83s/it]\n"
          ],
          "name": "stdout"
        }
      ]
    },
    {
      "cell_type": "code",
      "metadata": {
        "id": "tp8O01O3PlFx",
        "colab": {
          "base_uri": "https://localhost:8080/"
        },
        "outputId": "c6944bee-7ab0-449a-9686-f814d6d94114"
      },
      "source": [
        "!zip -r vids.zip /content/3d-photo-inpainting/video"
      ],
      "execution_count": null,
      "outputs": [
        {
          "output_type": "stream",
          "text": [
            "  adding: content/3d-photo-inpainting/video/ (stored 0%)\n",
            "  adding: content/3d-photo-inpainting/video/seed1665-art-scale-4_00x-gigapixel_zoom-in.mp4 (deflated 0%)\n",
            "  adding: content/3d-photo-inpainting/video/seed2007-art-scale-4_00x-gigapixel_zoom-in.mp4 (deflated 0%)\n",
            "  adding: content/3d-photo-inpainting/video/seed0992-art-scale-4_00x-gigapixel_zoom-in.mp4 (deflated 0%)\n",
            "  adding: content/3d-photo-inpainting/video/seed0119-art-scale-4_00x-gigapixel_zoom-in.mp4 (deflated 0%)\n",
            "  adding: content/3d-photo-inpainting/video/seed0420-art-scale-4_00x-gigapixel_zoom-in.mp4 (deflated 0%)\n",
            "  adding: content/3d-photo-inpainting/video/seed2930-art-scale-4_00x-gigapixel_zoom-in.mp4 (deflated 1%)\n",
            "  adding: content/3d-photo-inpainting/video/seed2983-art-scale-4_00x-gigapixel_zoom-in.mp4 (deflated 0%)\n",
            "  adding: content/3d-photo-inpainting/video/seed3653-art-scale-4_00x-gigapixel_zoom-in.mp4 (deflated 0%)\n",
            "  adding: content/3d-photo-inpainting/video/.ipynb_checkpoints/ (stored 0%)\n",
            "  adding: content/3d-photo-inpainting/video/seed1871-art-scale-4_00x-gigapixel_zoom-in.mp4 (deflated 0%)\n",
            "  adding: content/3d-photo-inpainting/video/seed2405-art-scale-4_00x-gigapixel_zoom-in.mp4 (deflated 0%)\n",
            "  adding: content/3d-photo-inpainting/video/seed4577-art-scale-4_00x-gigapixel_zoom-in.mp4 (deflated 0%)\n",
            "  adding: content/3d-photo-inpainting/video/seed1438-art-scale-4_00x-gigapixel_zoom-in.mp4 (deflated 0%)\n"
          ],
          "name": "stdout"
        }
      ]
    },
    {
      "cell_type": "markdown",
      "metadata": {
        "id": "wPvkMT0msIJB"
      },
      "source": [
        "- **The results are stored in the following directories**\n",
        "  - Corresponding depth map estimated by [MiDaS](https://github.com/intel-isl/MiDaS.git) \n",
        "      - E.g. ```/content/3d-photo-inpainting/depth/moon.npy```\n",
        "  - Inpainted 3D mesh\n",
        "      - E.g. ```/content/3d-photo-inpainting/mesh/moon.ply```\n",
        "  - Rendered videos with zoom-in motion\n",
        "      - E.g. ```/content/3d-photo-inpainting/video/moon_zoom-in.mp4```\n",
        "  - Rendered videos with swing motion\n",
        "      - E.g. ```/content/3d-photo-inpainting/video/moon_swing.mp4```\n",
        "  - Rendered videos with circle motion\n",
        "      - E.g. ```/content/3d-photo-inpainting/video/moon_circle.mp4```\n",
        "  \n",
        "    ![](https://drive.google.com/uc?id=1xBiZAeGfhsoAsG08N5UM8-f993p0G5HF)"
      ]
    },
    {
      "cell_type": "code",
      "metadata": {
        "id": "DVbeVOF5J2-O"
      },
      "source": [
        ""
      ],
      "execution_count": null,
      "outputs": []
    }
  ]
}