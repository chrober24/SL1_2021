{
  "nbformat": 4,
  "nbformat_minor": 0,
  "metadata": {
    "accelerator": "GPU",
    "colab": {
      "name": "stylegan2_tutorial_train_updated.ipynb",
      "provenance": [],
      "machine_shape": "hm",
      "toc_visible": true,
      "include_colab_link": true
    },
    "kernelspec": {
      "display_name": "Python 3",
      "name": "python3"
    },
    "language_info": {
      "name": "python"
    }
  },
  "cells": [
    {
      "cell_type": "markdown",
      "metadata": {
        "id": "view-in-github",
        "colab_type": "text"
      },
      "source": [
        "<a href=\"https://colab.research.google.com/github/chrober24/SL_2021-2022/blob/main/stylegan2_tutorial_train_updated.ipynb\" target=\"_parent\"><img src=\"https://colab.research.google.com/assets/colab-badge.svg\" alt=\"Open In Colab\"/></a>"
      ]
    },
    {
      "cell_type": "markdown",
      "metadata": {
        "id": "aiSY0eNe_V0t"
      },
      "source": [
        "## stylegan2: Training\n",
        "\n",
        "this notebook contains scripts for training a stylegan2 model as well as various scripts for generating images from a trained network and projecting into the network\n",
        "\n",
        "Training requires connecting colab to google drive as the training process generates a large amount of data that cannot be hosted locally on colab.\n",
        "\n",
        "To work with this notebook, run each cell consecutively. Each step describes the process that is occuring in the code when you run that cell. Any text in the descriptions highlighted like `this` indicates an option that you must change to train your own custom model. "
      ]
    },
    {
      "cell_type": "markdown",
      "metadata": {
        "id": "L2FQJl-S8ZGg"
      },
      "source": [
        "# setup"
      ]
    },
    {
      "cell_type": "code",
      "metadata": {
        "id": "9QtGFQ_PwLFZ",
        "cellView": "form"
      },
      "source": [
        "#@title Set tensorflow version\n",
        "#@markdown always use tensorflow1\n",
        "\n",
        "%tensorflow_version 1.x\n"
      ],
      "execution_count": null,
      "outputs": []
    },
    {
      "cell_type": "code",
      "metadata": {
        "id": "Gdl_HcPhkTsv",
        "cellView": "form"
      },
      "source": [
        "#@title Mount Google Drive\n",
        "from google.colab import drive\n",
        "drive.mount('/content/drive')"
      ],
      "execution_count": null,
      "outputs": []
    },
    {
      "cell_type": "code",
      "metadata": {
        "id": "7lSz-7VCkmaK",
        "cellView": "form"
      },
      "source": [
        "#@title Install StyleGAN2 Repository\n",
        "#@markdown StyleGAN2 will be installed to your Google Drive to speed up the training process\n",
        "\n",
        "#@markdown Run this cell. If you’re already installed the repo, it will skip the installation process and change into the repo’s directory. If you haven’t installed it, it will install all the files necessary.\n",
        "import os\n",
        "import shlex\n",
        "if os.path.isdir(\"/content/drive/MyDrive/stylegan2-aug-colab\"):\n",
        "  %cd \"/content/drive/MyDrive/stylegan2-aug-colab/stylegan2\"\n",
        "elif os.path.isdir(\"/content/drive\"):\n",
        "  %cd /content/drive/MyDrive/\n",
        "  !mkdir stylegan2-aug-colab\n",
        "  %cd stylegan2-aug-colab/\n",
        "  !git clone -b augs-attn https://github.com/dvschultz/stylegan2\n",
        "  %cd stylegan2\n",
        "  !mkdir raw_images\n",
        "  !mkdir pkl\n",
        "  %cd pkl\n",
        "  !gdown --id 1JLqXE5bGZnlu2BkbLPD5_ZxoO3Nz-AvF #inception: https://drive.google.com/open?id=1JLqXE5bGZnlu2BkbLPD5_ZxoO3Nz-AvF\n",
        "  %cd ../\n",
        "  !mkdir results\n",
        "  !mkdir results/00001-pretrained\n",
        "  %cd results/00001-pretrained\n",
        "  !gdown --id 1UlDmJVLLnBD9SnLSMXeiZRO6g-OMQCA_\n",
        "  %cd ../../\n",
        "  %mkdir datasets\n",
        "else:\n",
        "  !git clone -b augs-attn https://github.com/dvschultz/stylegan2\n",
        "  %cd styelgan2\n",
        "  !mkdir raw_images\n",
        "  !mkdir pkl\n",
        "  %cd pkl\n",
        "  !gdown --id 1JLqXE5bGZnlu2BkbLPD5_ZxoO3Nz-AvF #inception: https://drive.google.com/open?id=1JLqXE5bGZnlu2BkbLPD5_ZxoO3Nz-AvF\n",
        "  %cd ../\n",
        "  !mkdir results\n",
        "  !mkdir results/00001-pretrained\n",
        "  %cd results/00001-pretrained\n",
        "  !gdown --id 1UlDmJVLLnBD9SnLSMXeiZRO6g-OMQCA_\n",
        "  %cd ../../\n",
        "  %mkdir datasets"
      ],
      "execution_count": null,
      "outputs": []
    },
    {
      "cell_type": "markdown",
      "metadata": {
        "id": "fWf6qqV_-UQP"
      },
      "source": [
        "\n",
        "# Create tfrecord \n",
        "(only run at beginning of training)\n",
        "\n",
        "This step converts your images into the .tfrecord file format necessary for training stylegan2 \n",
        "\n",
        "\n",
        "*   `dataset_name`: output dataset - will place dataset in the folowing folder path: /content/drive/MyDrive/stylegan2-aug-colab/stylegan2/datasets/`dataset_name`\n",
        "* `input_path`: folder of prepared images - must be square (512 max) 24bit pngs. (use [Dataset-Prep](https://github.com/chrober24/SL_2021-2022/blob/main/Dataset_Prep.ipynb) notebook to prepare images)\n",
        "\n",
        "note: once a tfrecord has been created for a particular dataset, you do not need to run this cell to continue training with that dataset. Only run this cell when working with a new dataset of images.\n"
      ]
    },
    {
      "cell_type": "code",
      "metadata": {
        "cellView": "form",
        "id": "F3z6Jbe8DxP1"
      },
      "source": [
        "dataset_name =\"test\" #@param {type: \"string\"}\n",
        "input_path = \"/content/drive/MyDrive/stylegan2-aug-colab/stylegan2/raw_images/test\" #@param {type: \"string\"}\n",
        "output_path = \"/content/drive/MyDrive/stylegan2-aug-colab/stylegan2/datasets/\"+ dataset_name\n",
        "print(output_path)\n",
        "!python dataset_tool.py create_from_images_raw $output_path $input_path"
      ],
      "execution_count": null,
      "outputs": []
    },
    {
      "cell_type": "markdown",
      "metadata": {
        "id": "0i_uZAoLcrpt"
      },
      "source": [
        "# Pre-trained model download\n",
        "**run only once!**\n",
        "\n",
        "Run this cell if you need a pretrained model to perform transfer learning.\n",
        "this will download Nvidia's model trained on cars.\n",
        "\n",
        "Additional pretrained models can be found [here](https://nvlabs-fi-cdn.nvidia.com/stylegan2/networks/)\n",
        "and [here](https://github.com/justinpinkney/awesome-pretrained-stylegan2)\n",
        "(use !wget for models from these links)"
      ]
    },
    {
      "cell_type": "code",
      "source": [
        "#@title dwonload ffhq model\n",
        "!gdown --id 1UlDmJVLLnBD9SnLSMXeiZRO6g-OMQCA_ -O /content/drive/MyDrive/stylegan2-aug-colab/stylegan2/pkl/stylegan2-ffhq-config-f.pkl"
      ],
      "metadata": {
        "cellView": "form",
        "id": "3n5m5OrZB0Fy"
      },
      "execution_count": null,
      "outputs": []
    },
    {
      "cell_type": "markdown",
      "metadata": {
        "id": "2qbCFYx3Wghn"
      },
      "source": [
        "# Training\n",
        "\n",
        "In the next cell set your `pkl` and `resume_kimg` counter. If this is your first time the settings below should work for you.\n",
        "\n",
        "\n",
        "\n",
        "*   **Transfer Learning:** \n",
        "  * `pkl` should be set to a pretrained model\n",
        "  * `resume_kimg` should be set to 10000\n",
        "*   **resuming a previous Training session**\n",
        "  * `pkl` should be set to the path of your most recent checkpoint (found in results folder)\n",
        "  * `resume_kimg` should match the number in the filename of the pkl.\n",
        "\n",
        "`--dataset` should match `dataset_name` from tfrecord step\n",
        "\n",
        "\n"
      ]
    },
    {
      "cell_type": "code",
      "metadata": {
        "id": "83hg9Jw9zObb",
        "cellView": "form"
      },
      "source": [
        "#@title Transfer/Resuming Options\n",
        "pkl=\"/content/drive/MyDrive/stylegan2-aug-colab/stylegan2/pkl/stylegan2-ffhq-config-f.pkl\" #@param {type: \"string\"}\n",
        "resume_kimg = 10000 #@param {type: \"number\"}\n",
        "dataset = \"name of your dataset here\" #@param {type: \"string\"}"
      ],
      "execution_count": 13,
      "outputs": []
    },
    {
      "cell_type": "code",
      "metadata": {
        "id": "LqZAM9ormiYf",
        "cellView": "form"
      },
      "source": [
        "#@title TRAIN\n",
        "#@markdown the `AUG_PROB` environment setting tells the training loop how often to modify the real and fake images with augmentations. The default is `0.1` If you have a small training set you may want to go higher than that but note that the Karras paper does say if you set this value too high you may find it bleeds into the outputs.\n",
        "\n",
        "!AUG_PROB=0.2 python run_training.py --num-gpus=1 --mirror-augment=True --data-dir=./datasets --dataset=$dataset --config=config-f --resume-pkl=$pkl --resume-kimg=$resume_kimg --augmentations=True --metrics=None"
      ],
      "execution_count": null,
      "outputs": []
    }
  ]
}